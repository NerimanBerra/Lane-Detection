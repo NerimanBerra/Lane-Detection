{
 "cells": [
  {
   "cell_type": "code",
   "execution_count": 1,
   "id": "86dbb71e-c760-4495-8635-1d1f68057af3",
   "metadata": {},
   "outputs": [
    {
     "ename": "ModuleNotFoundError",
     "evalue": "No module named 'matplotlib'",
     "output_type": "error",
     "traceback": [
      "\u001b[1;31m---------------------------------------------------------------------------\u001b[0m",
      "\u001b[1;31mModuleNotFoundError\u001b[0m                       Traceback (most recent call last)",
      "Cell \u001b[1;32mIn[1], line 2\u001b[0m\n\u001b[0;32m      1\u001b[0m \u001b[38;5;28;01mimport\u001b[39;00m \u001b[38;5;21;01mcv2\u001b[39;00m\n\u001b[1;32m----> 2\u001b[0m \u001b[38;5;28;01mimport\u001b[39;00m \u001b[38;5;21;01mmatplotlib\u001b[39;00m\u001b[38;5;21;01m.\u001b[39;00m\u001b[38;5;21;01mpyplot\u001b[39;00m \u001b[38;5;28;01mas\u001b[39;00m \u001b[38;5;21;01mplt\u001b[39;00m\n\u001b[0;32m      3\u001b[0m \u001b[38;5;28;01mimport\u001b[39;00m \u001b[38;5;21;01mnumpy\u001b[39;00m \u001b[38;5;28;01mas\u001b[39;00m \u001b[38;5;21;01mnp\u001b[39;00m\n\u001b[0;32m      4\u001b[0m \u001b[38;5;28;01mimport\u001b[39;00m \u001b[38;5;21;01mpandas\u001b[39;00m \u001b[38;5;28;01mas\u001b[39;00m \u001b[38;5;21;01mpd\u001b[39;00m\n",
      "\u001b[1;31mModuleNotFoundError\u001b[0m: No module named 'matplotlib'"
     ]
    }
   ],
   "source": [
    "import cv2\n",
    "import matplotlib.pyplot as plt\n",
    "import numpy as np\n",
    "import pandas as pd\n",
    "from IPython import display"
   ]
  },
  {
   "cell_type": "code",
   "execution_count": null,
   "id": "3deba96a-cc8a-47a0-a009-169e6d7ebc10",
   "metadata": {},
   "outputs": [],
   "source": [
    "video = cv2.VideoCapture(r'C:\\Users\\berra\\Downloads\\LaneDetection.mp4')\n",
    "# running the loop \n",
    "while True: \n",
    "  \n",
    "    # extracting the frames \n",
    "    ret, img = video.read() \n",
    "      \n",
    "    # converting to gray-scale \n",
    "    gray = cv2.cvtColor(img, cv2.COLOR_BGR2GRAY) \n",
    "  \n",
    "    # displaying the video \n",
    "    cv2.imshow(\"Live\", gray) \n",
    "  \n",
    "    # exiting the loop \n",
    "    key = cv2.waitKey(1) \n",
    "    if key == ord(\"q\"): \n",
    "        break\n",
    "      \n",
    "# closing the window \n",
    "cv2.destroyAllWindows() \n",
    "source.release()"
   ]
  },
  {
   "cell_type": "code",
   "execution_count": null,
   "id": "60b60dad-e4cf-423a-a918-89aa909f5ece",
   "metadata": {},
   "outputs": [],
   "source": [
    "blur=cv2.GaussianBlur(gray, (5,5), 0)"
   ]
  },
  {
   "cell_type": "code",
   "execution_count": null,
   "id": "90160aa0-900d-4dcb-a96c-548e76ae5baa",
   "metadata": {},
   "outputs": [],
   "source": [
    "def canny(image):\n",
    "    edges = cv2.Canny(image,50,150)\n",
    "    return edges"
   ]
  },
  {
   "cell_type": "code",
   "execution_count": null,
   "id": "17259e36-4d70-4a21-8173-8f1b600d0300",
   "metadata": {},
   "outputs": [],
   "source": [
    "def region(image):\n",
    "    height, width = image.shape\n",
    "    triangle = np.array([\n",
    "                       [(100, height), (475, 325), (width, height)]\n",
    "                       ])\n",
    "    \n",
    "    mask = np.zeros_like(image)\n",
    "    \n",
    "    mask = cv2.fillPoly(mask, triangle, 255)\n",
    "    mask = cv2.bitwise_and(image, mask)\n",
    "    return mask"
   ]
  },
  {
   "cell_type": "code",
   "execution_count": null,
   "id": "e5d13316-941e-46bc-ba9d-93928b2bdc73",
   "metadata": {},
   "outputs": [],
   "source": [
    "lines = cv2.HoughLinesP(isolated, rho=2, theta=np.pi/180, threshold=100, np.array([]), minLineLength=40, maxLineGap=5)"
   ]
  },
  {
   "cell_type": "code",
   "execution_count": null,
   "id": "79cadc9e-12d0-499e-90a7-d149a2ea901c",
   "metadata": {},
   "outputs": [],
   "source": []
  },
  {
   "cell_type": "code",
   "execution_count": null,
   "id": "1b9533f0-a6c6-46d3-9437-39a0f4867cc4",
   "metadata": {},
   "outputs": [],
   "source": [
    "def make_points(image, average): \n",
    " slope, y_int = average \n",
    " y1 = image.shape[0]\n",
    " y2 = int(y1 * (3/5))\n",
    " x1 = int((y1 — y_int) // slope)\n",
    " x2 = int((y2 — y_int) // slope)\n",
    " return np.array([x1, y1, x2, y2])"
   ]
  },
  {
   "cell_type": "code",
   "execution_count": null,
   "id": "ef3eccc4-28c1-4d72-a32e-198c593ad10b",
   "metadata": {},
   "outputs": [],
   "source": [
    "def display_lines(image, lines):\n",
    " lines_image = np.zeros_like(image)\n",
    " if lines is not None:\n",
    "   for line in lines:\n",
    "     x1, y1, x2, y2 = line\n",
    "     cv2.line(lines_image, (x1, y1), (x2, y2), (255, 0, 0), 10)\n",
    " return lines_image"
   ]
  },
  {
   "cell_type": "code",
   "execution_count": null,
   "id": "fbc2180a-a088-4d0e-8cfa-1377776c0868",
   "metadata": {},
   "outputs": [],
   "source": [
    "lanes = cv2.addWeighted(copy, 0.8, black_lines, 1, 1)"
   ]
  },
  {
   "cell_type": "code",
   "execution_count": null,
   "id": "8be52394-4f97-4e51-b1c4-09296fa95165",
   "metadata": {},
   "outputs": [],
   "source": [
    "copy = np.copy(image1)\n",
    "grey = grey(copy)\n",
    "gaus = gauss(grey)\n",
    "edges = canny(gaus,50,150)\n",
    "isolated = region(edges)lines = cv2.HoughLinesP(isolated, 2, np.pi/180, 100, np.array([]), minLineLength=40, maxLineGap=5)\n",
    "averaged_lines = average(copy, lines)\n",
    "black_lines = display_lines(copy, averaged_lines)\n",
    "lanes = cv2.addWeighted(copy, 0.8, black_lines, 1, 1)\n",
    "cv2.imshow(\"lanes\", lanes)\n",
    "cv2.waitKey(0)"
   ]
  },
  {
   "cell_type": "code",
   "execution_count": null,
   "id": "3acd7eb7-09a7-4a29-baff-d505ade0d664",
   "metadata": {},
   "outputs": [],
   "source": []
  }
 ],
 "metadata": {
  "kernelspec": {
   "display_name": "myenv",
   "language": "python",
   "name": "myenv"
  },
  "language_info": {
   "codemirror_mode": {
    "name": "ipython",
    "version": 3
   },
   "file_extension": ".py",
   "mimetype": "text/x-python",
   "name": "python",
   "nbconvert_exporter": "python",
   "pygments_lexer": "ipython3",
   "version": "3.12.4"
  }
 },
 "nbformat": 4,
 "nbformat_minor": 5
}
